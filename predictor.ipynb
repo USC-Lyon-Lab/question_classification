{
 "cells": [
  {
   "cell_type": "code",
   "execution_count": 31,
   "metadata": {},
   "outputs": [],
   "source": [
    "# required libraries\n",
    "import torch\n",
    "from transformers import RobertaForSequenceClassification, RobertaTokenizer\n",
    "from torch.utils.data import TensorDataset, DataLoader, SequentialSampler\n",
    "from sklearn.metrics import accuracy_score\n",
    "from sklearn.model_selection import train_test_split\n",
    "import pandas as pd\n",
    "from tqdm import tqdm"
   ]
  },
  {
   "cell_type": "code",
   "execution_count": null,
   "metadata": {},
   "outputs": [],
   "source": [
    "# give the file path to be predicted\n",
    "file_path = \"./sample.csv\"\n",
    "\n",
    "# give the path of where the model is located\n",
    "model_path = \"./roberta_master2\""
   ]
  },
  {
   "cell_type": "code",
   "execution_count": 32,
   "metadata": {},
   "outputs": [
    {
     "data": {
      "text/html": [
       "<div>\n",
       "<style scoped>\n",
       "    .dataframe tbody tr th:only-of-type {\n",
       "        vertical-align: middle;\n",
       "    }\n",
       "\n",
       "    .dataframe tbody tr th {\n",
       "        vertical-align: top;\n",
       "    }\n",
       "\n",
       "    .dataframe thead th {\n",
       "        text-align: right;\n",
       "    }\n",
       "</style>\n",
       "<table border=\"1\" class=\"dataframe\">\n",
       "  <thead>\n",
       "    <tr style=\"text-align: right;\">\n",
       "      <th></th>\n",
       "      <th>prompt</th>\n",
       "    </tr>\n",
       "  </thead>\n",
       "  <tbody>\n",
       "    <tr>\n",
       "      <th>0</th>\n",
       "      <td>1. Q: For you, and here's one for me. Ok, now ...</td>\n",
       "    </tr>\n",
       "    <tr>\n",
       "      <th>1</th>\n",
       "      <td>3. Q: Adrian, what's your whole name?</td>\n",
       "    </tr>\n",
       "    <tr>\n",
       "      <th>2</th>\n",
       "      <td>5. Q: Wow, Adrian [middle name and last name]?</td>\n",
       "    </tr>\n",
       "    <tr>\n",
       "      <th>3</th>\n",
       "      <td>7. Q: Ok, if I make a mistake I want you to ma...</td>\n",
       "    </tr>\n",
       "    <tr>\n",
       "      <th>4</th>\n",
       "      <td>9. Q: Ok thank you, how old are you?</td>\n",
       "    </tr>\n",
       "    <tr>\n",
       "      <th>...</th>\n",
       "      <td>...</td>\n",
       "    </tr>\n",
       "    <tr>\n",
       "      <th>94</th>\n",
       "      <td>189. Q: Put a mark.</td>\n",
       "    </tr>\n",
       "    <tr>\n",
       "      <th>95</th>\n",
       "      <td>191. Q: Ok, somewhere else?</td>\n",
       "    </tr>\n",
       "    <tr>\n",
       "      <th>96</th>\n",
       "      <td>193. Q: Does she hit you someplace else?</td>\n",
       "    </tr>\n",
       "    <tr>\n",
       "      <th>97</th>\n",
       "      <td>195. Q: Ok, someplace else?</td>\n",
       "    </tr>\n",
       "    <tr>\n",
       "      <th>98</th>\n",
       "      <td>197. Q: Ok. Someplace else?</td>\n",
       "    </tr>\n",
       "  </tbody>\n",
       "</table>\n",
       "<p>99 rows × 1 columns</p>\n",
       "</div>"
      ],
      "text/plain": [
       "                                               prompt\n",
       "0   1. Q: For you, and here's one for me. Ok, now ...\n",
       "1              3. Q: Adrian, what's your whole name? \n",
       "2      5. Q: Wow, Adrian [middle name and last name]?\n",
       "3   7. Q: Ok, if I make a mistake I want you to ma...\n",
       "4                9. Q: Ok thank you, how old are you?\n",
       "..                                                ...\n",
       "94                                189. Q: Put a mark.\n",
       "95                        191. Q: Ok, somewhere else?\n",
       "96           193. Q: Does she hit you someplace else?\n",
       "97                        195. Q: Ok, someplace else?\n",
       "98                        197. Q: Ok. Someplace else?\n",
       "\n",
       "[99 rows x 1 columns]"
      ]
     },
     "execution_count": 32,
     "metadata": {},
     "output_type": "execute_result"
    }
   ],
   "source": [
    "# load the file into dataframe\n",
    "data = pd.read_csv(file_path,encoding='latin-1')\n",
    "data"
   ]
  },
  {
   "cell_type": "code",
   "execution_count": 33,
   "metadata": {},
   "outputs": [],
   "source": [
    "# convert questions into list format\n",
    "questions = list(data.iloc[:,0])\n",
    "questions = list(map(str, questions))"
   ]
  },
  {
   "cell_type": "code",
   "execution_count": 34,
   "metadata": {},
   "outputs": [
    {
     "data": {
      "text/plain": [
       "device(type='cuda')"
      ]
     },
     "execution_count": 34,
     "metadata": {},
     "output_type": "execute_result"
    }
   ],
   "source": [
    "device = torch.device('cuda' if torch.cuda.is_available() else 'cpu')\n",
    "device"
   ]
  },
  {
   "cell_type": "code",
   "execution_count": 35,
   "metadata": {},
   "outputs": [],
   "source": [
    "# Load the tokenizer\n",
    "tokenizer = RobertaTokenizer.from_pretrained('roberta-base')\n",
    "\n",
    "# Tokenize your dataset\n",
    "tokenized_questions = tokenizer(questions, padding=True, truncation=True, max_length=512, return_tensors='pt')\n",
    "\n",
    "# Prepare the data to be given in batches\n",
    "question_dataset = TensorDataset(tokenized_questions['input_ids'], tokenized_questions['attention_mask'])\n",
    "question_loader = DataLoader(question_dataset, sampler=SequentialSampler(question_dataset), batch_size=2)"
   ]
  },
  {
   "cell_type": "code",
   "execution_count": 36,
   "metadata": {},
   "outputs": [],
   "source": [
    "# load the model\n",
    "model = torch.load(model_path)\n",
    "model.to(device)\n",
    "model.eval()\n",
    "\n",
    "# make predictions\n",
    "pred_labels = []\n",
    "with torch.no_grad():\n",
    "    for batch in question_loader:\n",
    "        input_ids, attention_mask = tuple(t.to(device) for t in batch)\n",
    "        outputs = model(input_ids, attention_mask=attention_mask)\n",
    "        preds = torch.argmax(outputs[0], axis=1)\n",
    "        pred_labels.append(preds)"
   ]
  },
  {
   "cell_type": "code",
   "execution_count": 37,
   "metadata": {},
   "outputs": [],
   "source": [
    "# unpack the list of lists into a single list\n",
    "pred_labels = [j.tolist() for sub in pred_labels for j in sub]"
   ]
  },
  {
   "cell_type": "code",
   "execution_count": 39,
   "metadata": {},
   "outputs": [],
   "source": [
    "# add predictions column to the dataframe\n",
    "data['Predictions'] = pred_labels"
   ]
  },
  {
   "cell_type": "code",
   "execution_count": 40,
   "metadata": {},
   "outputs": [],
   "source": [
    "# write the final dataframe back to the file \n",
    "data.to_csv(file_path,index=False)"
   ]
  }
 ],
 "metadata": {
  "kernelspec": {
   "display_name": "base",
   "language": "python",
   "name": "python3"
  },
  "language_info": {
   "codemirror_mode": {
    "name": "ipython",
    "version": 3
   },
   "file_extension": ".py",
   "mimetype": "text/x-python",
   "name": "python",
   "nbconvert_exporter": "python",
   "pygments_lexer": "ipython3",
   "version": "3.9.15"
  },
  "orig_nbformat": 4,
  "vscode": {
   "interpreter": {
    "hash": "cea529259fe5f010a4cc2535bad7f2f1534163c0b64ca31ea76b84699a744333"
   }
  }
 },
 "nbformat": 4,
 "nbformat_minor": 2
}
